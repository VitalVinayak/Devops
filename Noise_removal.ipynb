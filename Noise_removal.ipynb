{
  "nbformat": 4,
  "nbformat_minor": 0,
  "metadata": {
    "colab": {
      "provenance": [],
      "authorship_tag": "ABX9TyP0C4Sswc4o/TPJDeFYgB4X",
      "include_colab_link": true
    },
    "kernelspec": {
      "name": "python3",
      "display_name": "Python 3"
    },
    "language_info": {
      "name": "python"
    }
  },
  "cells": [
    {
      "cell_type": "markdown",
      "metadata": {
        "id": "view-in-github",
        "colab_type": "text"
      },
      "source": [
        "<a href=\"https://colab.research.google.com/github/VitalVinayak/Devops/blob/main/Noise_removal.ipynb\" target=\"_parent\"><img src=\"https://colab.research.google.com/assets/colab-badge.svg\" alt=\"Open In Colab\"/></a>"
      ]
    },
    {
      "cell_type": "markdown",
      "source": [
        "**Steps to install NLTK and its data: **\n",
        "\n",
        "Install Pip: run in terminal:"
      ],
      "metadata": {
        "id": "UYu9EmV6aHxG"
      }
    },
    {
      "cell_type": "code",
      "execution_count": 4,
      "metadata": {
        "colab": {
          "base_uri": "https://localhost:8080/"
        },
        "id": "i-fUt0jMaE74",
        "outputId": "ae73a378-9839-4613-8bc7-cad0c46cb18a"
      },
      "outputs": [
        {
          "output_type": "stream",
          "name": "stdout",
          "text": [
            "sudo: easy_install: command not found\r\n"
          ]
        }
      ],
      "source": [
        "!sudo easy_install pip"
      ]
    },
    {
      "cell_type": "markdown",
      "source": [
        "\n",
        "Install NLTK: run in terminal :"
      ],
      "metadata": {
        "id": "xscX8V90cEWI"
      }
    },
    {
      "cell_type": "code",
      "source": [
        "!sudo pip install -U nltk"
      ],
      "metadata": {
        "colab": {
          "base_uri": "https://localhost:8080/"
        },
        "id": "1Y5mixpacHzO",
        "outputId": "f7f98ed3-5b04-4c14-be92-2101531b3de9"
      },
      "execution_count": 5,
      "outputs": [
        {
          "output_type": "stream",
          "name": "stdout",
          "text": [
            "Requirement already satisfied: nltk in /usr/local/lib/python3.10/dist-packages (3.9.1)\n",
            "Requirement already satisfied: click in /usr/local/lib/python3.10/dist-packages (from nltk) (8.1.7)\n",
            "Requirement already satisfied: joblib in /usr/local/lib/python3.10/dist-packages (from nltk) (1.4.2)\n",
            "Requirement already satisfied: regex>=2021.8.3 in /usr/local/lib/python3.10/dist-packages (from nltk) (2024.11.6)\n",
            "Requirement already satisfied: tqdm in /usr/local/lib/python3.10/dist-packages (from nltk) (4.67.1)\n"
          ]
        }
      ]
    },
    {
      "cell_type": "markdown",
      "source": [
        "\n",
        "Download NLTK data: run python shell (in terminal) and write the following code:"
      ],
      "metadata": {
        "id": "sSTqe1zGcR9u"
      }
    },
    {
      "cell_type": "code",
      "source": [
        "'''import nltk\n",
        "nltk.download()'''"
      ],
      "metadata": {
        "colab": {
          "base_uri": "https://localhost:8080/",
          "height": 35
        },
        "id": "Dih_t-MscZMN",
        "outputId": "bcc559e6-13f1-4cf7-b229-bc0f8b40d834"
      },
      "execution_count": 6,
      "outputs": [
        {
          "output_type": "execute_result",
          "data": {
            "text/plain": [
              "'import nltk\\nnltk.download()'"
            ],
            "application/vnd.google.colaboratory.intrinsic+json": {
              "type": "string"
            }
          },
          "metadata": {},
          "execution_count": 6
        }
      ]
    },
    {
      "cell_type": "markdown",
      "source": [
        "# Sample code to remove noisy words from a text"
      ],
      "metadata": {
        "id": "pXr1ujWQciod"
      }
    },
    {
      "cell_type": "code",
      "source": [
        "noise_list = [\"is\", \"a\", \"this\", \"...\"]\n",
        "def _remove_noise(input_text):\n",
        "    words = input_text.split()\n",
        "    noise_free_words = [word for word in words if word not in noise_list]\n",
        "    noise_free_text = \" \".join(noise_free_words)\n",
        "    return noise_free_text"
      ],
      "metadata": {
        "id": "29BnDWazcqYN"
      },
      "execution_count": 10,
      "outputs": []
    },
    {
      "cell_type": "markdown",
      "source": [],
      "metadata": {
        "id": "9xf8vcJyc9qW"
      }
    },
    {
      "cell_type": "code",
      "source": [
        "print(_remove_noise(\"this is a sample text\"))"
      ],
      "metadata": {
        "colab": {
          "base_uri": "https://localhost:8080/"
        },
        "id": "9AcjqHf_dIOF",
        "outputId": "10eea5d3-8569-4684-b20b-b0b8f75fbf61"
      },
      "execution_count": 11,
      "outputs": [
        {
          "output_type": "stream",
          "name": "stdout",
          "text": [
            "sample text\n"
          ]
        }
      ]
    },
    {
      "cell_type": "code",
      "source": [
        "print(_remove_noise(\"i'm a sample text\"))"
      ],
      "metadata": {
        "colab": {
          "base_uri": "https://localhost:8080/"
        },
        "id": "lBOKPgI3dW2N",
        "outputId": "6d7dcb2b-a1fa-4b08-ed02-b11a78ec32e5"
      },
      "execution_count": 12,
      "outputs": [
        {
          "output_type": "stream",
          "name": "stdout",
          "text": [
            "i'm sample text\n"
          ]
        }
      ]
    },
    {
      "cell_type": "markdown",
      "source": [
        "# Sample code to remove noisy words from regex pattern"
      ],
      "metadata": {
        "id": "wngV-fglduFs"
      }
    },
    {
      "cell_type": "code",
      "source": [
        "import re\n",
        "def _remove_regex(input_text, regex_pattern):\n",
        "    urls = re.finditer(regex_pattern, input_text)\n",
        "    for i in urls:\n",
        "        input_text = re.sub(i.group().strip(), '', input_text)\n",
        "    return input_text"
      ],
      "metadata": {
        "id": "erOZOrHpd33s"
      },
      "execution_count": 13,
      "outputs": []
    },
    {
      "cell_type": "code",
      "source": [
        "regex_pattern = \"#[\\w]*\""
      ],
      "metadata": {
        "id": "2pAXd7uWeLQs"
      },
      "execution_count": 16,
      "outputs": []
    },
    {
      "cell_type": "code",
      "source": [
        "_remove_regex(\"remove this #hashtag from analytics vidhya\",regex_pattern)"
      ],
      "metadata": {
        "colab": {
          "base_uri": "https://localhost:8080/",
          "height": 35
        },
        "id": "UpH40lAqeFzk",
        "outputId": "4871990a-12d5-42db-bbb8-2f3f029a52f7"
      },
      "execution_count": 17,
      "outputs": [
        {
          "output_type": "execute_result",
          "data": {
            "text/plain": [
              "'remove this  from analytics vidhya'"
            ],
            "application/vnd.google.colaboratory.intrinsic+json": {
              "type": "string"
            }
          },
          "metadata": {},
          "execution_count": 17
        }
      ]
    },
    {
      "cell_type": "code",
      "source": [
        "_remove_regex(\"Hello #this is me #name\", regex_pattern)"
      ],
      "metadata": {
        "colab": {
          "base_uri": "https://localhost:8080/",
          "height": 35
        },
        "id": "WfoDfaqHe8Ml",
        "outputId": "02c04329-fc4c-4775-de96-8c29041806b3"
      },
      "execution_count": 18,
      "outputs": [
        {
          "output_type": "execute_result",
          "data": {
            "text/plain": [
              "'Hello  is me '"
            ],
            "application/vnd.google.colaboratory.intrinsic+json": {
              "type": "string"
            }
          },
          "metadata": {},
          "execution_count": 18
        }
      ]
    }
  ]
}